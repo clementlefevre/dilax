{
 "cells": [
  {
   "cell_type": "code",
   "execution_count": 38,
   "metadata": {
    "collapsed": false
   },
   "outputs": [],
   "source": [
    "from model.predictor import Predictor\n",
    "import pandas as pd\n",
    "import urllib2\n",
    "from requests.utils import quote\n",
    "import json\n",
    "from collections import namedtuple\n",
    "import pprint"
   ]
  },
  {
   "cell_type": "code",
   "execution_count": 39,
   "metadata": {
    "collapsed": true
   },
   "outputs": [],
   "source": [
    "df = pd.read_csv('data/store/sites_infos_DWE_CLOSED_2013.csv')"
   ]
  },
  {
   "cell_type": "code",
   "execution_count": 43,
   "metadata": {
    "collapsed": false
   },
   "outputs": [],
   "source": [
    "\n",
    "Site = namedtuple('Site', ['idbldsite', 'site_name','latitude','longitude','region'])"
   ]
  },
  {
   "cell_type": "code",
   "execution_count": 44,
   "metadata": {
    "collapsed": false
   },
   "outputs": [
    {
     "data": {
      "text/html": [
       "<div>\n",
       "<table border=\"1\" class=\"dataframe\">\n",
       "  <thead>\n",
       "    <tr style=\"text-align: right;\">\n",
       "      <th></th>\n",
       "      <th>idbldsite</th>\n",
       "      <th>sname</th>\n",
       "      <th>latitude</th>\n",
       "      <th>longitude</th>\n",
       "      <th>region</th>\n",
       "    </tr>\n",
       "  </thead>\n",
       "  <tbody>\n",
       "    <tr>\n",
       "      <th>0</th>\n",
       "      <td>12</td>\n",
       "      <td>Stuttgart</td>\n",
       "      <td>48.776630</td>\n",
       "      <td>9.176330</td>\n",
       "      <td>Baden-Württemberg</td>\n",
       "    </tr>\n",
       "    <tr>\n",
       "      <th>1</th>\n",
       "      <td>1</td>\n",
       "      <td>Hamburg City</td>\n",
       "      <td>53.550842</td>\n",
       "      <td>9.995385</td>\n",
       "      <td>Hamburg</td>\n",
       "    </tr>\n",
       "    <tr>\n",
       "      <th>2</th>\n",
       "      <td>2</td>\n",
       "      <td>Hamburg AEZ</td>\n",
       "      <td>53.654227</td>\n",
       "      <td>10.091736</td>\n",
       "      <td>Hamburg</td>\n",
       "    </tr>\n",
       "    <tr>\n",
       "      <th>3</th>\n",
       "      <td>3</td>\n",
       "      <td>Muenchen Damen</td>\n",
       "      <td>48.142641</td>\n",
       "      <td>11.576903</td>\n",
       "      <td>Bayern</td>\n",
       "    </tr>\n",
       "    <tr>\n",
       "      <th>4</th>\n",
       "      <td>4</td>\n",
       "      <td>Muenchen Herren</td>\n",
       "      <td>48.142641</td>\n",
       "      <td>11.576903</td>\n",
       "      <td>Bayern</td>\n",
       "    </tr>\n",
       "    <tr>\n",
       "      <th>5</th>\n",
       "      <td>5</td>\n",
       "      <td>Duesseldorf Herren</td>\n",
       "      <td>51.224403</td>\n",
       "      <td>6.774598</td>\n",
       "      <td>Nordrhein-Westfalen</td>\n",
       "    </tr>\n",
       "    <tr>\n",
       "      <th>6</th>\n",
       "      <td>6</td>\n",
       "      <td>Duesseldorf Damen</td>\n",
       "      <td>51.224403</td>\n",
       "      <td>6.774598</td>\n",
       "      <td>Nordrhein-Westfalen</td>\n",
       "    </tr>\n",
       "    <tr>\n",
       "      <th>7</th>\n",
       "      <td>7</td>\n",
       "      <td>Wiesbaden</td>\n",
       "      <td>50.081434</td>\n",
       "      <td>8.244644</td>\n",
       "      <td>Hessen</td>\n",
       "    </tr>\n",
       "    <tr>\n",
       "      <th>8</th>\n",
       "      <td>8</td>\n",
       "      <td>Bikini Berlin</td>\n",
       "      <td>52.505482</td>\n",
       "      <td>13.335294</td>\n",
       "      <td>Berlin</td>\n",
       "    </tr>\n",
       "    <tr>\n",
       "      <th>9</th>\n",
       "      <td>9</td>\n",
       "      <td>Osnabrueck</td>\n",
       "      <td>52.276045</td>\n",
       "      <td>8.043023</td>\n",
       "      <td>Niedersachsen</td>\n",
       "    </tr>\n",
       "    <tr>\n",
       "      <th>10</th>\n",
       "      <td>10</td>\n",
       "      <td>Nuernberg</td>\n",
       "      <td>49.452291</td>\n",
       "      <td>11.074521</td>\n",
       "      <td>Bayern</td>\n",
       "    </tr>\n",
       "    <tr>\n",
       "      <th>11</th>\n",
       "      <td>11</td>\n",
       "      <td>Frankfurt MTZ</td>\n",
       "      <td>50.110922</td>\n",
       "      <td>8.682127</td>\n",
       "      <td>Hessen</td>\n",
       "    </tr>\n",
       "  </tbody>\n",
       "</table>\n",
       "</div>"
      ],
      "text/plain": [
       "    idbldsite               sname   latitude  longitude               region\n",
       "0          12           Stuttgart  48.776630   9.176330    Baden-Württemberg\n",
       "1           1        Hamburg City  53.550842   9.995385              Hamburg\n",
       "2           2         Hamburg AEZ  53.654227  10.091736              Hamburg\n",
       "3           3      Muenchen Damen  48.142641  11.576903               Bayern\n",
       "4           4     Muenchen Herren  48.142641  11.576903               Bayern\n",
       "5           5  Duesseldorf Herren  51.224403   6.774598  Nordrhein-Westfalen\n",
       "6           6   Duesseldorf Damen  51.224403   6.774598  Nordrhein-Westfalen\n",
       "7           7           Wiesbaden  50.081434   8.244644               Hessen\n",
       "8           8       Bikini Berlin  52.505482  13.335294               Berlin\n",
       "9           9          Osnabrueck  52.276045   8.043023        Niedersachsen\n",
       "10         10           Nuernberg  49.452291  11.074521               Bayern\n",
       "11         11       Frankfurt MTZ  50.110922   8.682127               Hessen"
      ]
     },
     "execution_count": 44,
     "metadata": {},
     "output_type": "execute_result"
    }
   ],
   "source": [
    "df"
   ]
  },
  {
   "cell_type": "code",
   "execution_count": 41,
   "metadata": {
    "collapsed": false
   },
   "outputs": [],
   "source": [
    "lista = [Site(*tuple(x)) for x in df.values]"
   ]
  },
  {
   "cell_type": "code",
   "execution_count": 7,
   "metadata": {
    "collapsed": false
   },
   "outputs": [],
   "source": [
    "MAPS_URL = \"http://maps.googleapis.com/maps/api/geocode/json?latlng=\"\n",
    "\n",
    "\n",
    "def get_region(latitude, longitude):\n",
    "    \"\"\"retrieve the local name of the region for a given coordinate.\n",
    "\n",
    "    Args:\n",
    "        latitude (int):\n",
    "        longitude (int):\n",
    "\n",
    "    Returns:\n",
    "        str: local name of the region\n",
    "    \"\"\"\n",
    "    coord_str = str(latitude) + \",\" + str(longitude)\n",
    "    try:\n",
    "        response = urllib2.urlopen(\n",
    "            MAPS_URL + coord_str)\n",
    "        data = json.loads(response.read())\n",
    "        region = data['results'][0]['address_components']\n",
    "        return region\n",
    "    except Exception as e:\n",
    "        print e.message\n",
    "        print \"Could not retrieve the region name for :\" + coord_str\n",
    "        return \"Not found\""
   ]
  },
  {
   "cell_type": "code",
   "execution_count": 30,
   "metadata": {
    "collapsed": false
   },
   "outputs": [
    {
     "name": "stdout",
     "output_type": "stream",
     "text": [
      "[{u'long_name': u'44', u'short_name': u'44', u'types': [u'street_number']},\n",
      " {u'long_name': u'K\\xf6nigstra\\xdfe',\n",
      "  u'short_name': u'K\\xf6nigstra\\xdfe',\n",
      "  u'types': [u'route']},\n",
      " {u'long_name': u'Stuttgart-Mitte',\n",
      "  u'short_name': u'Stuttgart-Mitte',\n",
      "  u'types': [u'political', u'sublocality', u'sublocality_level_1']},\n",
      " {u'long_name': u'Stuttgart',\n",
      "  u'short_name': u'Stuttgart',\n",
      "  u'types': [u'locality', u'political']},\n",
      " {u'long_name': u'Stuttgart',\n",
      "  u'short_name': u'S\\xfcd',\n",
      "  u'types': [u'administrative_area_level_2', u'political']},\n",
      " {u'long_name': u'Baden-W\\xfcrttemberg',\n",
      "  u'short_name': u'BW',\n",
      "  u'types': [u'administrative_area_level_1', u'political']},\n",
      " {u'long_name': u'Germany',\n",
      "  u'short_name': u'DE',\n",
      "  u'types': [u'country', u'political']},\n",
      " {u'long_name': u'70173', u'short_name': u'70173', u'types': [u'postal_code']}]\n"
     ]
    }
   ],
   "source": [
    "result =get_region(48.77663049,9.1763304)\n",
    "pprint.pprint (result)"
   ]
  },
  {
   "cell_type": "code",
   "execution_count": 31,
   "metadata": {
    "collapsed": false
   },
   "outputs": [],
   "source": [
    "region = [x for x in result if 'administrative_area_level_1' in x['types']]"
   ]
  },
  {
   "cell_type": "code",
   "execution_count": 32,
   "metadata": {
    "collapsed": false
   },
   "outputs": [],
   "source": [
    "as_str =(region[0]['long_name']).encode('utf-8)')"
   ]
  },
  {
   "cell_type": "code",
   "execution_count": 35,
   "metadata": {
    "collapsed": false
   },
   "outputs": [
    {
     "data": {
      "text/plain": [
       "str"
      ]
     },
     "execution_count": 35,
     "metadata": {},
     "output_type": "execute_result"
    }
   ],
   "source": [
    "type(as_str)"
   ]
  },
  {
   "cell_type": "code",
   "execution_count": 36,
   "metadata": {
    "collapsed": false
   },
   "outputs": [
    {
     "data": {
      "text/plain": [
       "'Baden-W\\xc3\\xbcrttemberg'"
      ]
     },
     "execution_count": 36,
     "metadata": {},
     "output_type": "execute_result"
    }
   ],
   "source": [
    "as_str"
   ]
  }
 ],
 "metadata": {
  "kernelspec": {
   "display_name": "Python 2",
   "language": "python",
   "name": "python2"
  },
  "language_info": {
   "codemirror_mode": {
    "name": "ipython",
    "version": 2
   },
   "file_extension": ".py",
   "mimetype": "text/x-python",
   "name": "python",
   "nbconvert_exporter": "python",
   "pygments_lexer": "ipython2",
   "version": "2.7.12"
  }
 },
 "nbformat": 4,
 "nbformat_minor": 0
}
