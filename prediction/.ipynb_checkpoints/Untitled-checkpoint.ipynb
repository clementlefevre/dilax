{
 "cells": [
  {
   "cell_type": "code",
   "execution_count": 35,
   "metadata": {
    "collapsed": false
   },
   "outputs": [],
   "source": [
    "from model.predictor import Predictor\n",
    "import pandas as pd\n",
    "import urllib2\n",
    "from requests.utils import quote\n",
    "import json\n",
    "from collections import namedtuple"
   ]
  },
  {
   "cell_type": "code",
   "execution_count": 23,
   "metadata": {
    "collapsed": true
   },
   "outputs": [],
   "source": [
    "df = pd.read_csv('data/store/sites_infos_DWE_CLOSED_2013.csv')"
   ]
  },
  {
   "cell_type": "code",
   "execution_count": 46,
   "metadata": {
    "collapsed": false
   },
   "outputs": [],
   "source": [
    "df =df[['idbldsite', u'sname',  u'latitude', u'longitude',\n",
    "     u'region']]\n",
    "Site = namedtuple('Site', ['idbldsite', 'site_name','latitude','longitude','region'])"
   ]
  },
  {
   "cell_type": "code",
   "execution_count": 47,
   "metadata": {
    "collapsed": false
   },
   "outputs": [],
   "source": [
    "lista = [Site(*tuple(x.encod)) for x in df.values]"
   ]
  },
  {
   "cell_type": "code",
   "execution_count": 53,
   "metadata": {
    "collapsed": false
   },
   "outputs": [],
   "source": [
    "MAPS_URL = \"http://maps.googleapis.com/maps/api/geocode/json?latlng=\"\n",
    "\n",
    "\n",
    "def get_region(latitude, longitude):\n",
    "    \"\"\"retrieve the local name of the region for a given coordinate.\n",
    "\n",
    "    Args:\n",
    "        latitude (int):\n",
    "        longitude (int):\n",
    "\n",
    "    Returns:\n",
    "        str: local name of the region\n",
    "    \"\"\"\n",
    "    coord_str = str(latitude) + \",\" + str(longitude)\n",
    "    try:\n",
    "        response = urllib2.urlopen(\n",
    "            MAPS_URL + coord_str)\n",
    "        data = json.loads(response.read())\n",
    "        region = data['results'][0]['address_components']\n",
    "        return region\n",
    "    except Exception as e:\n",
    "        print e.message\n",
    "        print \"Could not retrieve the region name for :\" + coord_str\n",
    "        return \"Not found\""
   ]
  },
  {
   "cell_type": "code",
   "execution_count": 55,
   "metadata": {
    "collapsed": false
   },
   "outputs": [],
   "source": [
    "result =get_region(52.276045,8.043023)"
   ]
  },
  {
   "cell_type": "raw",
   "metadata": {},
   "source": []
  },
  {
   "cell_type": "code",
   "execution_count": null,
   "metadata": {
    "collapsed": true
   },
   "outputs": [],
   "source": [
    "\n"
   ]
  }
 ],
 "metadata": {
  "kernelspec": {
   "display_name": "Python 2",
   "language": "python",
   "name": "python2"
  },
  "language_info": {
   "codemirror_mode": {
    "name": "ipython",
    "version": 2
   },
   "file_extension": ".py",
   "mimetype": "text/x-python",
   "name": "python",
   "nbconvert_exporter": "python",
   "pygments_lexer": "ipython2",
   "version": "2.7.12"
  }
 },
 "nbformat": 4,
 "nbformat_minor": 0
}
