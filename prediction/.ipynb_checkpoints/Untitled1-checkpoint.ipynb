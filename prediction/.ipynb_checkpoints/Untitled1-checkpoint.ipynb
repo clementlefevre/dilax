{
 "cells": [
  {
   "cell_type": "code",
   "execution_count": 95,
   "metadata": {
    "collapsed": false
   },
   "outputs": [],
   "source": [
    "%matplotlib inline\n",
    "from config import *\n",
    "import db_service as db\n",
    "import pandas as pd\n",
    "import holidays_service\n",
    "import datetime"
   ]
  },
  {
   "cell_type": "code",
   "execution_count": 77,
   "metadata": {
    "collapsed": false
   },
   "outputs": [],
   "source": [
    "\n",
    "holidays_service.create_holidays_df()\n"
   ]
  },
  {
   "cell_type": "code",
   "execution_count": 78,
   "metadata": {
    "collapsed": false
   },
   "outputs": [
    {
     "data": {
      "text/html": [
       "<div>\n",
       "<table border=\"1\" class=\"dataframe\">\n",
       "  <thead>\n",
       "    <tr style=\"text-align: right;\">\n",
       "      <th></th>\n",
       "      <th>region_id</th>\n",
       "      <th>from_date</th>\n",
       "      <th>to_date</th>\n",
       "    </tr>\n",
       "  </thead>\n",
       "  <tbody>\n",
       "    <tr>\n",
       "      <th>0</th>\n",
       "      <td>0</td>\n",
       "      <td>2013-03-25</td>\n",
       "      <td>2013-04-05</td>\n",
       "    </tr>\n",
       "    <tr>\n",
       "      <th>1</th>\n",
       "      <td>0</td>\n",
       "      <td>2013-05-21</td>\n",
       "      <td>2013-06-01</td>\n",
       "    </tr>\n",
       "    <tr>\n",
       "      <th>2</th>\n",
       "      <td>0</td>\n",
       "      <td>2013-07-25</td>\n",
       "      <td>2013-09-07</td>\n",
       "    </tr>\n",
       "    <tr>\n",
       "      <th>3</th>\n",
       "      <td>0</td>\n",
       "      <td>2013-10-28</td>\n",
       "      <td>2013-10-30</td>\n",
       "    </tr>\n",
       "    <tr>\n",
       "      <th>4</th>\n",
       "      <td>0</td>\n",
       "      <td>2013-12-23</td>\n",
       "      <td>2013-01-04</td>\n",
       "    </tr>\n",
       "  </tbody>\n",
       "</table>\n",
       "</div>"
      ],
      "text/plain": [
       "   region_id  from_date    to_date\n",
       "0          0 2013-03-25 2013-04-05\n",
       "1          0 2013-05-21 2013-06-01\n",
       "2          0 2013-07-25 2013-09-07\n",
       "3          0 2013-10-28 2013-10-30\n",
       "4          0 2013-12-23 2013-01-04"
      ]
     },
     "execution_count": 78,
     "metadata": {},
     "output_type": "execute_result"
    }
   ],
   "source": [
    "dateparse = lambda x: pd.datetime.strptime(x, '%d.%m.%Y')\n",
    "df_school = pd.read_csv('data/school_holidays/holidays_germany_df.csv',parse_dates=['from_date','to_date'],date_parser=dateparse)\n",
    "df_school.head()"
   ]
  },
  {
   "cell_type": "code",
   "execution_count": 107,
   "metadata": {
    "collapsed": false
   },
   "outputs": [
    {
     "data": {
      "text/html": [
       "<div>\n",
       "<table border=\"1\" class=\"dataframe\">\n",
       "  <thead>\n",
       "    <tr style=\"text-align: right;\">\n",
       "      <th></th>\n",
       "      <th>date</th>\n",
       "      <th>region_id</th>\n",
       "      <th>to_date</th>\n",
       "      <th>from_date2</th>\n",
       "      <th>is_holiday</th>\n",
       "    </tr>\n",
       "    <tr>\n",
       "      <th>region_id</th>\n",
       "      <th></th>\n",
       "      <th></th>\n",
       "      <th></th>\n",
       "      <th></th>\n",
       "      <th></th>\n",
       "    </tr>\n",
       "  </thead>\n",
       "  <tbody>\n",
       "    <tr>\n",
       "      <th>0</th>\n",
       "      <td>2013-03-23</td>\n",
       "      <td>0.0</td>\n",
       "      <td>1970-01-01</td>\n",
       "      <td>1970-01-01</td>\n",
       "      <td>False</td>\n",
       "    </tr>\n",
       "    <tr>\n",
       "      <th>0</th>\n",
       "      <td>2013-03-24</td>\n",
       "      <td>0.0</td>\n",
       "      <td>1970-01-01</td>\n",
       "      <td>1970-01-01</td>\n",
       "      <td>False</td>\n",
       "    </tr>\n",
       "    <tr>\n",
       "      <th>0</th>\n",
       "      <td>2013-03-25</td>\n",
       "      <td>0.0</td>\n",
       "      <td>2013-04-05</td>\n",
       "      <td>2013-03-25</td>\n",
       "      <td>True</td>\n",
       "    </tr>\n",
       "    <tr>\n",
       "      <th>0</th>\n",
       "      <td>2013-03-26</td>\n",
       "      <td>0.0</td>\n",
       "      <td>2013-04-05</td>\n",
       "      <td>2013-03-25</td>\n",
       "      <td>True</td>\n",
       "    </tr>\n",
       "    <tr>\n",
       "      <th>0</th>\n",
       "      <td>2013-03-27</td>\n",
       "      <td>0.0</td>\n",
       "      <td>2013-04-05</td>\n",
       "      <td>2013-03-25</td>\n",
       "      <td>True</td>\n",
       "    </tr>\n",
       "  </tbody>\n",
       "</table>\n",
       "</div>"
      ],
      "text/plain": [
       "                date  region_id    to_date from_date2 is_holiday\n",
       "region_id                                                       \n",
       "0         2013-03-23        0.0 1970-01-01 1970-01-01      False\n",
       "0         2013-03-24        0.0 1970-01-01 1970-01-01      False\n",
       "0         2013-03-25        0.0 2013-04-05 2013-03-25       True\n",
       "0         2013-03-26        0.0 2013-04-05 2013-03-25       True\n",
       "0         2013-03-27        0.0 2013-04-05 2013-03-25       True"
      ]
     },
     "execution_count": 107,
     "metadata": {},
     "output_type": "execute_result"
    }
   ],
   "source": [
    "date_range = pd.date_range(datetime.date(2013, 3,23), datetime.date(2017, 1, 10))\n",
    "df_school['from_date2']=df_school.from_date\n",
    "\n",
    "df = df_school.groupby(['region_id']).apply(lambda x: x.set_index('from_date').sort_index().reindex(date_range,method='ffill'))\n",
    "df = df.fillna(0)\n",
    "df = df.reset_index(level=1)\n",
    "df = df.rename(columns={'level_1':'date'})\n",
    "df['is_holiday']=(df.date>=df.from_date2) & (df.date<=df.to_date)\n",
    "df.head()"
   ]
  }
 ],
 "metadata": {
  "kernelspec": {
   "display_name": "Python 2",
   "language": "python",
   "name": "python2"
  },
  "language_info": {
   "codemirror_mode": {
    "name": "ipython",
    "version": 2
   },
   "file_extension": ".py",
   "mimetype": "text/x-python",
   "name": "python",
   "nbconvert_exporter": "python",
   "pygments_lexer": "ipython2",
   "version": "2.7.12"
  }
 },
 "nbformat": 4,
 "nbformat_minor": 0
}
