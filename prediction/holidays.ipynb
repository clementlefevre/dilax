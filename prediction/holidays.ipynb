{
 "cells": [
  {
   "cell_type": "code",
   "execution_count": 1,
   "metadata": {
    "collapsed": false
   },
   "outputs": [],
   "source": [
    "\n",
    "%matplotlib inline\n",
    "\n",
    "from sqlalchemy import create_engine\n",
    "import datetime\n",
    "import numpy as np\n",
    "import pandas as pd\n",
    "import urllib2\n",
    "import json\n",
    "\n",
    "\n",
    "import matplotlib.pyplot as plt\n",
    "import matplotlib.cm as cm\n",
    "import matplotlib.colors as col\n",
    "from matplotlib.dates import  DateFormatter\n",
    "import seaborn as sns\n",
    "from pandas.io.json import json_normalize\n",
    "\n",
    "from config import *\n",
    "import holidays_service\n",
    "import db_service\n"
   ]
  },
  {
   "cell_type": "code",
   "execution_count": 2,
   "metadata": {
    "collapsed": false
   },
   "outputs": [
    {
     "ename": "AttributeError",
     "evalue": "'module' object has no attribute 'get_holidays'",
     "output_type": "error",
     "traceback": [
      "\u001b[0;31m---------------------------------------------------------------------------\u001b[0m",
      "\u001b[0;31mAttributeError\u001b[0m                            Traceback (most recent call last)",
      "\u001b[0;32m<ipython-input-2-26ffaa906ca8>\u001b[0m in \u001b[0;36m<module>\u001b[0;34m()\u001b[0m\n\u001b[0;32m----> 1\u001b[0;31m \u001b[0mholidays_service\u001b[0m\u001b[0;34m.\u001b[0m\u001b[0mget_holidays\u001b[0m\u001b[0;34m(\u001b[0m\u001b[0;34m)\u001b[0m\u001b[0;34m\u001b[0m\u001b[0m\n\u001b[0m",
      "\u001b[0;31mAttributeError\u001b[0m: 'module' object has no attribute 'get_holidays'"
     ]
    }
   ],
   "source": [
    "holidays_service.get_holidays()"
   ]
  },
  {
   "cell_type": "code",
   "execution_count": null,
   "metadata": {
    "collapsed": true
   },
   "outputs": [],
   "source": [
    "dateparse = lambda x: pd.datetime.strptime(x, '%d.%m.%Y')"
   ]
  },
  {
   "cell_type": "code",
   "execution_count": null,
   "metadata": {
    "collapsed": false
   },
   "outputs": [],
   "source": [
    "df_public = pd.read_csv('holidays/public_holidays.csv',index_col=0,parse_dates=['ft_date'],sep=';', date_parser=dateparse)\n",
    "df_school = pd.read_csv('holidays/school_holidays.csv',index_col=0,parse_dates=['date_begin','date_end'],sep=';', date_parser=dateparse)\n",
    "df_public.head()"
   ]
  },
  {
   "cell_type": "code",
   "execution_count": null,
   "metadata": {
    "collapsed": false
   },
   "outputs": [],
   "source": [
    "df_school.sort_values(by='date_begin').head(3)"
   ]
  },
  {
   "cell_type": "code",
   "execution_count": null,
   "metadata": {
    "collapsed": false
   },
   "outputs": [],
   "source": [
    "df_school.info()"
   ]
  },
  {
   "cell_type": "code",
   "execution_count": null,
   "metadata": {
    "collapsed": false
   },
   "outputs": [],
   "source": [
    "date_range=pd.date_range(datetime.date(2014,1,1),datetime.date(2017,1,10))\n"
   ]
  },
  {
   "cell_type": "code",
   "execution_count": null,
   "metadata": {
    "collapsed": false
   },
   "outputs": [],
   "source": [
    "df_school[df_school.holidays_API_site_id==2978]"
   ]
  },
  {
   "cell_type": "code",
   "execution_count": null,
   "metadata": {
    "collapsed": false
   },
   "outputs": [],
   "source": [
    "df_school_reindexed = df_school.set_index(['holidays_API_site_id','date_begin'])\n",
    "df_school_reindexed = df_school_reindexed.groupby(level='holidays_API_site_id').apply(\n",
    "      lambda x: x.reset_index().set_index('date_begin').sort_index().reindex(date_range,method='ffill'))\n",
    "df_school_reindexed = df_school_reindexed.drop('holidays_API_site_id',1)\n",
    "\n",
    "\n",
    "df_school_reindexed= df_school_reindexed.fillna(0)\n",
    "df_school_reindexed = df_school_reindexed.reset_index(level=1, drop=False)\n",
    "df_school_reindexed.tail(10)\n",
    "\n",
    "df_school_reindexed['is_holiday'] = (df_school_reindexed.date_end<df_school_reindexed.level_1) \n",
    "& (df_school_reindexed.date_end!=)\n",
    "df_school_reindexed.tail(20)"
   ]
  }
 ],
 "metadata": {
  "kernelspec": {
   "display_name": "Python 2",
   "language": "python",
   "name": "python2"
  },
  "language_info": {
   "codemirror_mode": {
    "name": "ipython",
    "version": 2
   },
   "file_extension": ".py",
   "mimetype": "text/x-python",
   "name": "python",
   "nbconvert_exporter": "python",
   "pygments_lexer": "ipython2",
   "version": "2.7.12"
  }
 },
 "nbformat": 4,
 "nbformat_minor": 0
}
