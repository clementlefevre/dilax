{
 "cells": [
  {
   "cell_type": "code",
   "execution_count": 6,
   "metadata": {
    "collapsed": true
   },
   "outputs": [],
   "source": [
    "from model import db_manager\n",
    "import pandas as pd\n",
    "import datetime\n",
    "import pprint"
   ]
  },
  {
   "cell_type": "code",
   "execution_count": 7,
   "metadata": {
    "collapsed": true
   },
   "outputs": [],
   "source": [
    "df = pd.read_csv('data/test_data_store.csv',index_col=0)"
   ]
  },
  {
   "cell_type": "code",
   "execution_count": 11,
   "metadata": {
    "collapsed": false
   },
   "outputs": [],
   "source": [
    "cols = [x for x in df.columns.tolist()]"
   ]
  },
  {
   "cell_type": "code",
   "execution_count": 15,
   "metadata": {
    "collapsed": false
   },
   "outputs": [
    {
     "name": "stdout",
     "output_type": "stream",
     "text": [
      "idbldsite = 0\n",
      "compensatedin = 0\n",
      "date = 0\n",
      "maxtemperature = 0\n",
      "mintemperature = 0\n",
      "weathersituation = 0\n",
      "cloudamount = 0\n",
      "coord = 0\n",
      "sname = 0\n",
      "is_public_holiday = 0\n",
      "region_id = 0\n",
      "is_school_holiday = 0\n",
      "day_of_week = 0\n",
      "day_of_month = 0\n",
      "day_of_year = 0\n",
      "month = 0\n",
      "year = 0\n",
      "day_0 = 0\n",
      "day_1 = 0\n",
      "day_2 = 0\n",
      "day_3 = 0\n",
      "day_4 = 0\n",
      "day_5 = 0\n",
      "day_6 = 0\n",
      "month_1 = 0\n",
      "month_2 = 0\n",
      "month_3 = 0\n",
      "month_4 = 0\n",
      "month_5 = 0\n",
      "month_6 = 0\n",
      "month_7 = 0\n",
      "month_8 = 0\n",
      "month_9 = 0\n",
      "month_10 = 0\n",
      "month_11 = 0\n",
      "month_12 = 0\n",
      "public_holiday = 0\n",
      "not_public_holiday = 0\n",
      "school_holiday = 0\n",
      "not_school_holiday = 0\n"
     ]
    }
   ],
   "source": [
    "for x in cols:\n",
    "    print x+\" = 0\""
   ]
  }
 ],
 "metadata": {
  "kernelspec": {
   "display_name": "Python 2",
   "language": "python",
   "name": "python2"
  },
  "language_info": {
   "codemirror_mode": {
    "name": "ipython",
    "version": 2
   },
   "file_extension": ".py",
   "mimetype": "text/x-python",
   "name": "python",
   "nbconvert_exporter": "python",
   "pygments_lexer": "ipython2",
   "version": "2.7.12"
  }
 },
 "nbformat": 4,
 "nbformat_minor": 0
}
