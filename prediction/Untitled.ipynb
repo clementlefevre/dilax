{
 "cells": [
  {
   "cell_type": "code",
   "execution_count": 14,
   "metadata": {
    "collapsed": false
   },
   "outputs": [],
   "source": [
    "from model.predictor import Predictor\n",
    "import pandas as pd\n",
    "import urllib2\n",
    "from requests.utils import quote\n",
    "import json\n",
    "from collections import namedtuple\n",
    "import pprint"
   ]
  },
  {
   "cell_type": "code",
   "execution_count": 15,
   "metadata": {
    "collapsed": false
   },
   "outputs": [],
   "source": [
    "df = pd.read_csv('data/store/DWE_CLOSED_2013_sites_infos.csv', index_col=0)"
   ]
  },
  {
   "cell_type": "code",
   "execution_count": 16,
   "metadata": {
    "collapsed": false
   },
   "outputs": [],
   "source": [
    "\n",
    "Site = namedtuple('Site', ['idbldsite', 'site_name','latitude','longitude','region'])"
   ]
  },
  {
   "cell_type": "code",
   "execution_count": 17,
   "metadata": {
    "collapsed": false
   },
   "outputs": [
    {
     "data": {
      "text/html": [
       "<div>\n",
       "<table border=\"1\" class=\"dataframe\">\n",
       "  <thead>\n",
       "    <tr style=\"text-align: right;\">\n",
       "      <th></th>\n",
       "      <th>idbldsite</th>\n",
       "      <th>sname</th>\n",
       "      <th>latitude</th>\n",
       "      <th>longitude</th>\n",
       "      <th>coord</th>\n",
       "      <th>region</th>\n",
       "      <th>region_id</th>\n",
       "    </tr>\n",
       "  </thead>\n",
       "  <tbody>\n",
       "    <tr>\n",
       "      <th>0</th>\n",
       "      <td>12</td>\n",
       "      <td>Stuttgart</td>\n",
       "      <td>48.776630</td>\n",
       "      <td>9.176330</td>\n",
       "      <td>48.78;9.18</td>\n",
       "      <td>Baden-Württemberg</td>\n",
       "      <td>0</td>\n",
       "    </tr>\n",
       "    <tr>\n",
       "      <th>1</th>\n",
       "      <td>1</td>\n",
       "      <td>Hamburg City</td>\n",
       "      <td>53.550842</td>\n",
       "      <td>9.995385</td>\n",
       "      <td>53.55;10.0</td>\n",
       "      <td>Hamburg</td>\n",
       "      <td>5</td>\n",
       "    </tr>\n",
       "    <tr>\n",
       "      <th>2</th>\n",
       "      <td>2</td>\n",
       "      <td>Hamburg AEZ</td>\n",
       "      <td>53.654227</td>\n",
       "      <td>10.091736</td>\n",
       "      <td>53.65;10.09</td>\n",
       "      <td>Hamburg</td>\n",
       "      <td>5</td>\n",
       "    </tr>\n",
       "    <tr>\n",
       "      <th>3</th>\n",
       "      <td>3</td>\n",
       "      <td>Muenchen Damen</td>\n",
       "      <td>48.142641</td>\n",
       "      <td>11.576903</td>\n",
       "      <td>48.14;11.58</td>\n",
       "      <td>Bayern</td>\n",
       "      <td>1</td>\n",
       "    </tr>\n",
       "    <tr>\n",
       "      <th>4</th>\n",
       "      <td>4</td>\n",
       "      <td>Muenchen Herren</td>\n",
       "      <td>48.142641</td>\n",
       "      <td>11.576903</td>\n",
       "      <td>48.14;11.58</td>\n",
       "      <td>Bayern</td>\n",
       "      <td>1</td>\n",
       "    </tr>\n",
       "    <tr>\n",
       "      <th>5</th>\n",
       "      <td>5</td>\n",
       "      <td>Duesseldorf Herren</td>\n",
       "      <td>51.224403</td>\n",
       "      <td>6.774598</td>\n",
       "      <td>51.22;6.77</td>\n",
       "      <td>Nordrhein-Westfalen</td>\n",
       "      <td>9</td>\n",
       "    </tr>\n",
       "    <tr>\n",
       "      <th>6</th>\n",
       "      <td>6</td>\n",
       "      <td>Duesseldorf Damen</td>\n",
       "      <td>51.224403</td>\n",
       "      <td>6.774598</td>\n",
       "      <td>51.22;6.77</td>\n",
       "      <td>Nordrhein-Westfalen</td>\n",
       "      <td>9</td>\n",
       "    </tr>\n",
       "    <tr>\n",
       "      <th>7</th>\n",
       "      <td>7</td>\n",
       "      <td>Wiesbaden</td>\n",
       "      <td>50.081434</td>\n",
       "      <td>8.244644</td>\n",
       "      <td>50.08;8.24</td>\n",
       "      <td>Hessen</td>\n",
       "      <td>6</td>\n",
       "    </tr>\n",
       "    <tr>\n",
       "      <th>8</th>\n",
       "      <td>8</td>\n",
       "      <td>Bikini Berlin</td>\n",
       "      <td>52.505482</td>\n",
       "      <td>13.335294</td>\n",
       "      <td>52.51;13.34</td>\n",
       "      <td>Berlin</td>\n",
       "      <td>2</td>\n",
       "    </tr>\n",
       "    <tr>\n",
       "      <th>9</th>\n",
       "      <td>9</td>\n",
       "      <td>Osnabrueck</td>\n",
       "      <td>52.276045</td>\n",
       "      <td>8.043023</td>\n",
       "      <td>52.28;8.04</td>\n",
       "      <td>Niedersachsen</td>\n",
       "      <td>8</td>\n",
       "    </tr>\n",
       "    <tr>\n",
       "      <th>10</th>\n",
       "      <td>10</td>\n",
       "      <td>Nuernberg</td>\n",
       "      <td>49.452291</td>\n",
       "      <td>11.074521</td>\n",
       "      <td>49.45;11.07</td>\n",
       "      <td>Bayern</td>\n",
       "      <td>1</td>\n",
       "    </tr>\n",
       "    <tr>\n",
       "      <th>11</th>\n",
       "      <td>11</td>\n",
       "      <td>Frankfurt MTZ</td>\n",
       "      <td>50.110922</td>\n",
       "      <td>8.682127</td>\n",
       "      <td>50.11;8.68</td>\n",
       "      <td>Hessen</td>\n",
       "      <td>6</td>\n",
       "    </tr>\n",
       "  </tbody>\n",
       "</table>\n",
       "</div>"
      ],
      "text/plain": [
       "    idbldsite               sname   latitude  longitude        coord  \\\n",
       "0          12           Stuttgart  48.776630   9.176330   48.78;9.18   \n",
       "1           1        Hamburg City  53.550842   9.995385   53.55;10.0   \n",
       "2           2         Hamburg AEZ  53.654227  10.091736  53.65;10.09   \n",
       "3           3      Muenchen Damen  48.142641  11.576903  48.14;11.58   \n",
       "4           4     Muenchen Herren  48.142641  11.576903  48.14;11.58   \n",
       "5           5  Duesseldorf Herren  51.224403   6.774598   51.22;6.77   \n",
       "6           6   Duesseldorf Damen  51.224403   6.774598   51.22;6.77   \n",
       "7           7           Wiesbaden  50.081434   8.244644   50.08;8.24   \n",
       "8           8       Bikini Berlin  52.505482  13.335294  52.51;13.34   \n",
       "9           9          Osnabrueck  52.276045   8.043023   52.28;8.04   \n",
       "10         10           Nuernberg  49.452291  11.074521  49.45;11.07   \n",
       "11         11       Frankfurt MTZ  50.110922   8.682127   50.11;8.68   \n",
       "\n",
       "                 region  region_id  \n",
       "0     Baden-Württemberg          0  \n",
       "1               Hamburg          5  \n",
       "2               Hamburg          5  \n",
       "3                Bayern          1  \n",
       "4                Bayern          1  \n",
       "5   Nordrhein-Westfalen          9  \n",
       "6   Nordrhein-Westfalen          9  \n",
       "7                Hessen          6  \n",
       "8                Berlin          2  \n",
       "9         Niedersachsen          8  \n",
       "10               Bayern          1  \n",
       "11               Hessen          6  "
      ]
     },
     "execution_count": 17,
     "metadata": {},
     "output_type": "execute_result"
    }
   ],
   "source": [
    "df"
   ]
  },
  {
   "cell_type": "code",
   "execution_count": 18,
   "metadata": {
    "collapsed": false
   },
   "outputs": [],
   "source": [
    "df = df.set_index('idbldsite')\n",
    "sites_dict = df.T.to_dict()"
   ]
  },
  {
   "cell_type": "code",
   "execution_count": 20,
   "metadata": {
    "collapsed": false
   },
   "outputs": [
    {
     "data": {
      "text/plain": [
       "{1: {'coord': '53.55;10.0',\n",
       "  'latitude': 53.550842,\n",
       "  'longitude': 9.995385,\n",
       "  'region': 'Hamburg',\n",
       "  'region_id': 5,\n",
       "  'sname': 'Hamburg City'},\n",
       " 2: {'coord': '53.65;10.09',\n",
       "  'latitude': 53.654227,\n",
       "  'longitude': 10.091736000000001,\n",
       "  'region': 'Hamburg',\n",
       "  'region_id': 5,\n",
       "  'sname': 'Hamburg AEZ'},\n",
       " 3: {'coord': '48.14;11.58',\n",
       "  'latitude': 48.142641,\n",
       "  'longitude': 11.576903,\n",
       "  'region': 'Bayern',\n",
       "  'region_id': 1,\n",
       "  'sname': 'Muenchen Damen'},\n",
       " 4: {'coord': '48.14;11.58',\n",
       "  'latitude': 48.142641,\n",
       "  'longitude': 11.576903,\n",
       "  'region': 'Bayern',\n",
       "  'region_id': 1,\n",
       "  'sname': 'Muenchen Herren'},\n",
       " 5: {'coord': '51.22;6.77',\n",
       "  'latitude': 51.224403,\n",
       "  'longitude': 6.774597999999999,\n",
       "  'region': 'Nordrhein-Westfalen',\n",
       "  'region_id': 9,\n",
       "  'sname': 'Duesseldorf Herren'},\n",
       " 6: {'coord': '51.22;6.77',\n",
       "  'latitude': 51.224403,\n",
       "  'longitude': 6.774597999999999,\n",
       "  'region': 'Nordrhein-Westfalen',\n",
       "  'region_id': 9,\n",
       "  'sname': 'Duesseldorf Damen'},\n",
       " 7: {'coord': '50.08;8.24',\n",
       "  'latitude': 50.081434,\n",
       "  'longitude': 8.244644000000001,\n",
       "  'region': 'Hessen',\n",
       "  'region_id': 6,\n",
       "  'sname': 'Wiesbaden'},\n",
       " 8: {'coord': '52.51;13.34',\n",
       "  'latitude': 52.50548199999999,\n",
       "  'longitude': 13.335294000000001,\n",
       "  'region': 'Berlin',\n",
       "  'region_id': 2,\n",
       "  'sname': 'Bikini Berlin'},\n",
       " 9: {'coord': '52.28;8.04',\n",
       "  'latitude': 52.276045,\n",
       "  'longitude': 8.043023,\n",
       "  'region': 'Niedersachsen',\n",
       "  'region_id': 8,\n",
       "  'sname': 'Osnabrueck'},\n",
       " 10: {'coord': '49.45;11.07',\n",
       "  'latitude': 49.452290999999995,\n",
       "  'longitude': 11.074521,\n",
       "  'region': 'Bayern',\n",
       "  'region_id': 1,\n",
       "  'sname': 'Nuernberg'},\n",
       " 11: {'coord': '50.11;8.68',\n",
       "  'latitude': 50.1109221,\n",
       "  'longitude': 8.6821267,\n",
       "  'region': 'Hessen',\n",
       "  'region_id': 6,\n",
       "  'sname': 'Frankfurt MTZ'},\n",
       " 12: {'coord': '48.78;9.18',\n",
       "  'latitude': 48.776630499999996,\n",
       "  'longitude': 9.176330499999999,\n",
       "  'region': 'Baden-W\\xc3\\xbcrttemberg',\n",
       "  'region_id': 0,\n",
       "  'sname': 'Stuttgart'}}"
      ]
     },
     "execution_count": 20,
     "metadata": {},
     "output_type": "execute_result"
    }
   ],
   "source": [
    "sites_dict"
   ]
  },
  {
   "cell_type": "code",
   "execution_count": null,
   "metadata": {
    "collapsed": false
   },
   "outputs": [],
   "source": [
    "MAPS_URL = \"http://maps.googleapis.com/maps/api/geocode/json?latlng=\"\n",
    "\n",
    "\n",
    "def get_region(latitude, longitude):\n",
    "    \"\"\"retrieve the local name of the region for a given coordinate.\n",
    "\n",
    "    Args:\n",
    "        latitude (int):\n",
    "        longitude (int):\n",
    "\n",
    "    Returns:\n",
    "        str: local name of the region\n",
    "    \"\"\"\n",
    "    coord_str = str(latitude) + \",\" + str(longitude)\n",
    "    try:\n",
    "        response = urllib2.urlopen(\n",
    "            MAPS_URL + coord_str)\n",
    "        data = json.loads(response.read())\n",
    "        region = data['results'][0]['address_components']\n",
    "        return region\n",
    "    except Exception as e:\n",
    "        print e.message\n",
    "        print \"Could not retrieve the region name for :\" + coord_str\n",
    "        return \"Not found\""
   ]
  },
  {
   "cell_type": "code",
   "execution_count": null,
   "metadata": {
    "collapsed": false
   },
   "outputs": [],
   "source": [
    "result =get_region(48.77663049,9.1763304)\n",
    "pprint.pprint (result)"
   ]
  },
  {
   "cell_type": "code",
   "execution_count": null,
   "metadata": {
    "collapsed": false
   },
   "outputs": [],
   "source": [
    "region = [x for x in result if 'administrative_area_level_1' in x['types']]"
   ]
  },
  {
   "cell_type": "code",
   "execution_count": null,
   "metadata": {
    "collapsed": false
   },
   "outputs": [],
   "source": [
    "as_str =(region[0]['long_name']).encode('utf-8)')"
   ]
  },
  {
   "cell_type": "code",
   "execution_count": null,
   "metadata": {
    "collapsed": false
   },
   "outputs": [],
   "source": [
    "type(as_str)"
   ]
  },
  {
   "cell_type": "code",
   "execution_count": null,
   "metadata": {
    "collapsed": false
   },
   "outputs": [],
   "source": [
    "as_str"
   ]
  }
 ],
 "metadata": {
  "kernelspec": {
   "display_name": "Python 2",
   "language": "python",
   "name": "python2"
  },
  "language_info": {
   "codemirror_mode": {
    "name": "ipython",
    "version": 2
   },
   "file_extension": ".py",
   "mimetype": "text/x-python",
   "name": "python",
   "nbconvert_exporter": "python",
   "pygments_lexer": "ipython2",
   "version": "2.7.12"
  }
 },
 "nbformat": 4,
 "nbformat_minor": 0
}
