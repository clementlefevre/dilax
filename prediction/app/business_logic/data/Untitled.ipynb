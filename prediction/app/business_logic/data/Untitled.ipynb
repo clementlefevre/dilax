{
 "cells": [
  {
   "cell_type": "code",
   "execution_count": 12,
   "metadata": {
    "collapsed": true
   },
   "outputs": [],
   "source": [
    "%matplotlib inline\n",
    "import pandas as pd"
   ]
  },
  {
   "cell_type": "code",
   "execution_count": 21,
   "metadata": {
    "collapsed": true
   },
   "outputs": [],
   "source": [
    "df = pd.read_csv(\"store/DWE_CLOSED_2013:H:[None to 2016-11-28][2016-11-29 to 2016-12-29]_train.csv\",sep=';')"
   ]
  },
  {
   "cell_type": "code",
   "execution_count": 22,
   "metadata": {
    "collapsed": false
   },
   "outputs": [],
   "source": [
    "df = df[df.idbldsite==2]"
   ]
  },
  {
   "cell_type": "code",
   "execution_count": 23,
   "metadata": {
    "collapsed": false
   },
   "outputs": [
    {
     "data": {
      "text/html": [
       "<div>\n",
       "<table border=\"1\" class=\"dataframe\">\n",
       "  <thead>\n",
       "    <tr style=\"text-align: right;\">\n",
       "      <th></th>\n",
       "      <th>Unnamed: 0</th>\n",
       "      <th>idbldsite</th>\n",
       "      <th>compensatedin</th>\n",
       "      <th>date</th>\n",
       "      <th>date_time</th>\n",
       "      <th>maxtemperature</th>\n",
       "      <th>mintemperature</th>\n",
       "      <th>weathersituation</th>\n",
       "      <th>cloudamount</th>\n",
       "      <th>region_id</th>\n",
       "      <th>...</th>\n",
       "      <th>month_12</th>\n",
       "      <th>public_holiday</th>\n",
       "      <th>not_public_holiday</th>\n",
       "      <th>school_holiday</th>\n",
       "      <th>not_school_holiday</th>\n",
       "      <th>compensatedin_reg</th>\n",
       "      <th>maxtemperature_reg</th>\n",
       "      <th>mintemperature_reg</th>\n",
       "      <th>weathersituation_reg</th>\n",
       "      <th>cloudamount_reg</th>\n",
       "    </tr>\n",
       "  </thead>\n",
       "  <tbody>\n",
       "    <tr>\n",
       "      <th>18562</th>\n",
       "      <td>18562</td>\n",
       "      <td>2</td>\n",
       "      <td>7</td>\n",
       "      <td>2015-05-08 00:00:00</td>\n",
       "      <td>2015-05-08 19:00:00</td>\n",
       "      <td>15.0</td>\n",
       "      <td>15.0</td>\n",
       "      <td>25.0</td>\n",
       "      <td>5.0</td>\n",
       "      <td>5.0</td>\n",
       "      <td>...</td>\n",
       "      <td>0</td>\n",
       "      <td>0</td>\n",
       "      <td>1</td>\n",
       "      <td>0</td>\n",
       "      <td>1</td>\n",
       "      <td>0.491840</td>\n",
       "      <td>0.418073</td>\n",
       "      <td>0.418073</td>\n",
       "      <td>-0.030617</td>\n",
       "      <td>0.055802</td>\n",
       "    </tr>\n",
       "    <tr>\n",
       "      <th>18563</th>\n",
       "      <td>18563</td>\n",
       "      <td>2</td>\n",
       "      <td>3</td>\n",
       "      <td>2015-05-08 00:00:00</td>\n",
       "      <td>2015-05-08 20:00:00</td>\n",
       "      <td>15.0</td>\n",
       "      <td>15.0</td>\n",
       "      <td>25.0</td>\n",
       "      <td>5.0</td>\n",
       "      <td>5.0</td>\n",
       "      <td>...</td>\n",
       "      <td>0</td>\n",
       "      <td>0</td>\n",
       "      <td>1</td>\n",
       "      <td>0</td>\n",
       "      <td>1</td>\n",
       "      <td>-0.097148</td>\n",
       "      <td>0.418073</td>\n",
       "      <td>0.418073</td>\n",
       "      <td>-0.030617</td>\n",
       "      <td>0.055802</td>\n",
       "    </tr>\n",
       "    <tr>\n",
       "      <th>18564</th>\n",
       "      <td>18564</td>\n",
       "      <td>2</td>\n",
       "      <td>0</td>\n",
       "      <td>2015-05-08 00:00:00</td>\n",
       "      <td>2015-05-08 21:00:00</td>\n",
       "      <td>13.7</td>\n",
       "      <td>13.7</td>\n",
       "      <td>5.0</td>\n",
       "      <td>5.0</td>\n",
       "      <td>5.0</td>\n",
       "      <td>...</td>\n",
       "      <td>0</td>\n",
       "      <td>0</td>\n",
       "      <td>1</td>\n",
       "      <td>0</td>\n",
       "      <td>1</td>\n",
       "      <td>-0.538888</td>\n",
       "      <td>0.236484</td>\n",
       "      <td>0.236484</td>\n",
       "      <td>-0.790490</td>\n",
       "      <td>0.055802</td>\n",
       "    </tr>\n",
       "    <tr>\n",
       "      <th>18565</th>\n",
       "      <td>18565</td>\n",
       "      <td>2</td>\n",
       "      <td>0</td>\n",
       "      <td>2015-05-08 00:00:00</td>\n",
       "      <td>2015-05-08 22:00:00</td>\n",
       "      <td>13.7</td>\n",
       "      <td>13.7</td>\n",
       "      <td>5.0</td>\n",
       "      <td>5.0</td>\n",
       "      <td>5.0</td>\n",
       "      <td>...</td>\n",
       "      <td>0</td>\n",
       "      <td>0</td>\n",
       "      <td>1</td>\n",
       "      <td>0</td>\n",
       "      <td>1</td>\n",
       "      <td>-0.538888</td>\n",
       "      <td>0.236484</td>\n",
       "      <td>0.236484</td>\n",
       "      <td>-0.790490</td>\n",
       "      <td>0.055802</td>\n",
       "    </tr>\n",
       "    <tr>\n",
       "      <th>18566</th>\n",
       "      <td>18566</td>\n",
       "      <td>2</td>\n",
       "      <td>0</td>\n",
       "      <td>2015-05-08 00:00:00</td>\n",
       "      <td>2015-05-08 23:00:00</td>\n",
       "      <td>11.2</td>\n",
       "      <td>11.2</td>\n",
       "      <td>7.0</td>\n",
       "      <td>7.0</td>\n",
       "      <td>5.0</td>\n",
       "      <td>...</td>\n",
       "      <td>0</td>\n",
       "      <td>0</td>\n",
       "      <td>1</td>\n",
       "      <td>0</td>\n",
       "      <td>1</td>\n",
       "      <td>-0.538888</td>\n",
       "      <td>-0.112726</td>\n",
       "      <td>-0.112726</td>\n",
       "      <td>-0.714503</td>\n",
       "      <td>0.891664</td>\n",
       "    </tr>\n",
       "  </tbody>\n",
       "</table>\n",
       "<p>5 rows × 44 columns</p>\n",
       "</div>"
      ],
      "text/plain": [
       "       Unnamed: 0  idbldsite  compensatedin                 date  \\\n",
       "18562       18562          2              7  2015-05-08 00:00:00   \n",
       "18563       18563          2              3  2015-05-08 00:00:00   \n",
       "18564       18564          2              0  2015-05-08 00:00:00   \n",
       "18565       18565          2              0  2015-05-08 00:00:00   \n",
       "18566       18566          2              0  2015-05-08 00:00:00   \n",
       "\n",
       "                 date_time  maxtemperature  mintemperature  weathersituation  \\\n",
       "18562  2015-05-08 19:00:00            15.0            15.0              25.0   \n",
       "18563  2015-05-08 20:00:00            15.0            15.0              25.0   \n",
       "18564  2015-05-08 21:00:00            13.7            13.7               5.0   \n",
       "18565  2015-05-08 22:00:00            13.7            13.7               5.0   \n",
       "18566  2015-05-08 23:00:00            11.2            11.2               7.0   \n",
       "\n",
       "       cloudamount  region_id       ...         month_12  public_holiday  \\\n",
       "18562          5.0        5.0       ...                0               0   \n",
       "18563          5.0        5.0       ...                0               0   \n",
       "18564          5.0        5.0       ...                0               0   \n",
       "18565          5.0        5.0       ...                0               0   \n",
       "18566          7.0        5.0       ...                0               0   \n",
       "\n",
       "       not_public_holiday  school_holiday  not_school_holiday  \\\n",
       "18562                   1               0                   1   \n",
       "18563                   1               0                   1   \n",
       "18564                   1               0                   1   \n",
       "18565                   1               0                   1   \n",
       "18566                   1               0                   1   \n",
       "\n",
       "       compensatedin_reg  maxtemperature_reg  mintemperature_reg  \\\n",
       "18562           0.491840            0.418073            0.418073   \n",
       "18563          -0.097148            0.418073            0.418073   \n",
       "18564          -0.538888            0.236484            0.236484   \n",
       "18565          -0.538888            0.236484            0.236484   \n",
       "18566          -0.538888           -0.112726           -0.112726   \n",
       "\n",
       "       weathersituation_reg  cloudamount_reg  \n",
       "18562             -0.030617         0.055802  \n",
       "18563             -0.030617         0.055802  \n",
       "18564             -0.790490         0.055802  \n",
       "18565             -0.790490         0.055802  \n",
       "18566             -0.714503         0.891664  \n",
       "\n",
       "[5 rows x 44 columns]"
      ]
     },
     "execution_count": 23,
     "metadata": {},
     "output_type": "execute_result"
    }
   ],
   "source": [
    "df.head()"
   ]
  },
  {
   "cell_type": "code",
   "execution_count": 24,
   "metadata": {
    "collapsed": false
   },
   "outputs": [],
   "source": [
    "df = df.set_index('date_time')"
   ]
  },
  {
   "cell_type": "code",
   "execution_count": 31,
   "metadata": {
    "collapsed": false
   },
   "outputs": [
    {
     "name": "stdout",
     "output_type": "stream",
     "text": [
      "Help on method corr in module pandas.core.frame:\n",
      "\n",
      "corr(self, method='pearson', min_periods=1) method of pandas.core.frame.DataFrame instance\n",
      "    Compute pairwise correlation of columns, excluding NA/null values\n",
      "    \n",
      "    Parameters\n",
      "    ----------\n",
      "    method : {'pearson', 'kendall', 'spearman'}\n",
      "        * pearson : standard correlation coefficient\n",
      "        * kendall : Kendall Tau correlation coefficient\n",
      "        * spearman : Spearman rank correlation\n",
      "    min_periods : int, optional\n",
      "        Minimum number of observations required per pair of columns\n",
      "        to have a valid result. Currently only available for pearson\n",
      "        and spearman correlation\n",
      "    \n",
      "    Returns\n",
      "    -------\n",
      "    y : DataFrame\n",
      "\n"
     ]
    }
   ],
   "source": [
    "help(df.corr)"
   ]
  },
  {
   "cell_type": "code",
   "execution_count": null,
   "metadata": {
    "collapsed": true
   },
   "outputs": [],
   "source": []
  }
 ],
 "metadata": {
  "kernelspec": {
   "display_name": "Python 2",
   "language": "python",
   "name": "python2"
  },
  "language_info": {
   "codemirror_mode": {
    "name": "ipython",
    "version": 2
   },
   "file_extension": ".py",
   "mimetype": "text/x-python",
   "name": "python",
   "nbconvert_exporter": "python",
   "pygments_lexer": "ipython2",
   "version": "2.7.12"
  }
 },
 "nbformat": 4,
 "nbformat_minor": 0
}
